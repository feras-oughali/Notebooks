{
  "nbformat": 4,
  "nbformat_minor": 0,
  "metadata": {
    "colab": {
      "name": "cars_classifier_pytorch.ipynb",
      "version": "0.3.2",
      "provenance": [],
      "collapsed_sections": [
        "LSgO95vjxilA",
        "_bb7W68pxl8e",
        "svRxhIWOxqtF",
        "B2CjdlwmxwyI",
        "Losim_kJx3QR",
        "8MPaQuEkx9Hm",
        "8tWKFsdHyCEV",
        "sX0lr8QryTAJ"
      ],
      "include_colab_link": true
    },
    "kernelspec": {
      "name": "python3",
      "display_name": "Python 3"
    },
    "accelerator": "GPU"
  },
  "cells": [
    {
      "cell_type": "markdown",
      "metadata": {
        "id": "view-in-github",
        "colab_type": "text"
      },
      "source": [
        "<a href=\"https://colab.research.google.com/github/feras-oughali/Notebooks/blob/master/cars_classifier_pytorch.ipynb\" target=\"_parent\"><img src=\"https://colab.research.google.com/assets/colab-badge.svg\" alt=\"Open In Colab\"/></a>"
      ]
    },
    {
      "metadata": {
        "id": "6r06jOVUnTUw",
        "colab_type": "text"
      },
      "cell_type": "markdown",
      "source": [
        "# Transfer Learning with Pytorch"
      ]
    },
    {
      "metadata": {
        "id": "ygrLOxTXwSu4",
        "colab_type": "text"
      },
      "cell_type": "markdown",
      "source": [
        "In this notebook we try to classify two brands of German cars: `Audi` and `BMW`.\n",
        "The images are downloaded from `Google Images` and loaded to `Google Drive`.\n",
        "\n",
        "We'll use transfer learning with Pytorch to customize a pre-trained model to perform the task. \n",
        "\n",
        "We cover all the necessary steps needed to achieve the task:\n",
        "1. Reading the data\n",
        "2. Splitting the data into training and validation sets\n",
        "3. Data augmentation\n",
        "4. Creating the model.\n",
        "5. Customizing the model. \n",
        "6. Training the model\n",
        "7. Validating the model\n",
        "\n"
      ]
    },
    {
      "metadata": {
        "id": "LSgO95vjxilA",
        "colab_type": "text"
      },
      "cell_type": "markdown",
      "source": [
        "## Setup"
      ]
    },
    {
      "metadata": {
        "id": "yJXw-K6InR42",
        "colab_type": "text"
      },
      "cell_type": "markdown",
      "source": [
        "Mount the drive, setup the path, and imports"
      ]
    },
    {
      "metadata": {
        "id": "8x2zSI4EgV5k",
        "colab_type": "code",
        "outputId": "12d34c5f-ee2f-4c71-c46e-042e60a35e46",
        "colab": {
          "base_uri": "https://localhost:8080/",
          "height": 121
        }
      },
      "cell_type": "code",
      "source": [
        "from google.colab import drive\n",
        "drive.mount('/content/gdrive', force_remount=True)\n",
        "root_dir = \"/content/gdrive/My\\ Drive/\""
      ],
      "execution_count": 1,
      "outputs": [
        {
          "output_type": "stream",
          "text": [
            "Go to this URL in a browser: https://accounts.google.com/o/oauth2/auth?client_id=947318989803-6bn6qk8qdgf4n4g3pfee6491hc0brc4i.apps.googleusercontent.com&redirect_uri=urn%3Aietf%3Awg%3Aoauth%3A2.0%3Aoob&scope=email%20https%3A%2F%2Fwww.googleapis.com%2Fauth%2Fdocs.test%20https%3A%2F%2Fwww.googleapis.com%2Fauth%2Fdrive%20https%3A%2F%2Fwww.googleapis.com%2Fauth%2Fdrive.photos.readonly%20https%3A%2F%2Fwww.googleapis.com%2Fauth%2Fpeopleapi.readonly&response_type=code\n",
            "\n",
            "Enter your authorization code:\n",
            "··········\n",
            "Mounted at /content/gdrive\n"
          ],
          "name": "stdout"
        }
      ]
    },
    {
      "metadata": {
        "id": "qIgD11ZWgi86",
        "colab_type": "code",
        "colab": {}
      },
      "cell_type": "code",
      "source": [
        "import pathlib as Path\n",
        "import matplotlib.pyplot as plt\n",
        "import numpy as np\n",
        "import torch\n",
        "from torch import nn\n",
        "from torch.utils.data import DataLoader\n",
        "from torch import optim\n",
        "from torchvision import datasets, models, transforms\n",
        "%matplotlib inline\n"
      ],
      "execution_count": 0,
      "outputs": []
    },
    {
      "metadata": {
        "id": "4ZqXQCelhndL",
        "colab_type": "code",
        "outputId": "ea5d08bc-6c60-4ab4-e3ec-5da489845ad0",
        "colab": {
          "base_uri": "https://localhost:8080/",
          "height": 34
        }
      },
      "cell_type": "code",
      "source": [
        "path = Path.Path(root_dir+'cars'); path\n"
      ],
      "execution_count": 3,
      "outputs": [
        {
          "output_type": "execute_result",
          "data": {
            "text/plain": [
              "PosixPath('/content/gdrive/My\\\\ Drive/cars')"
            ]
          },
          "metadata": {
            "tags": []
          },
          "execution_count": 3
        }
      ]
    },
    {
      "metadata": {
        "id": "wtBEl7D9huTW",
        "colab_type": "code",
        "outputId": "ea813c5b-fa88-4bda-a665-c21ed7281b8d",
        "colab": {
          "base_uri": "https://localhost:8080/",
          "height": 34
        }
      },
      "cell_type": "code",
      "source": [
        "!ls ./gdrive/My\\ Drive/cars"
      ],
      "execution_count": 0,
      "outputs": [
        {
          "output_type": "stream",
          "text": [
            "audi  bmw\n"
          ],
          "name": "stdout"
        }
      ]
    },
    {
      "metadata": {
        "id": "_bb7W68pxl8e",
        "colab_type": "text"
      },
      "cell_type": "markdown",
      "source": [
        "## Reading the data"
      ]
    },
    {
      "metadata": {
        "id": "ezIT_arXnfl0",
        "colab_type": "text"
      },
      "cell_type": "markdown",
      "source": [
        "Basic transforms: random crop, resize to 224 x 224 as expected by the deployed model later (densenet), and convert image to tensor.\n",
        "\n",
        "Normalize with the mean and std values of the pre-trained model for the three channels."
      ]
    },
    {
      "metadata": {
        "id": "EIQiRgOWj2C2",
        "colab_type": "code",
        "colab": {}
      },
      "cell_type": "code",
      "source": [
        "train_transforms = transforms.Compose([transforms.Resize(270),\n",
        "                                       transforms.RandomResizedCrop((224,224)),\n",
        "                                       transforms.ToTensor(),\n",
        "                                      transforms.Normalize([0.485, 0.456, 0.406],[0.229, 0.224, 0.225])])"
      ],
      "execution_count": 0,
      "outputs": []
    },
    {
      "metadata": {
        "id": "rmWEhcYYoSDk",
        "colab_type": "text"
      },
      "cell_type": "markdown",
      "source": [
        "Read the data from a rood folder using `torchvision.datasets`, and provide the selected transformations."
      ]
    },
    {
      "metadata": {
        "id": "_FMFYpCEie_g",
        "colab_type": "code",
        "colab": {}
      },
      "cell_type": "code",
      "source": [
        "data = datasets.ImageFolder(root='./gdrive/My Drive/cars', transform=train_transforms)"
      ],
      "execution_count": 0,
      "outputs": []
    },
    {
      "metadata": {
        "id": "yXS_ZYJhkqTP",
        "colab_type": "code",
        "outputId": "c62d81bb-1dd8-4550-c62b-fb221c46340e",
        "colab": {
          "base_uri": "https://localhost:8080/",
          "height": 185
        }
      },
      "cell_type": "code",
      "source": [
        "data"
      ],
      "execution_count": 13,
      "outputs": [
        {
          "output_type": "execute_result",
          "data": {
            "text/plain": [
              "Dataset ImageFolder\n",
              "    Number of datapoints: 2699\n",
              "    Root Location: ./gdrive/My Drive/cars\n",
              "    Transforms (if any): Compose(\n",
              "                             Resize(size=270, interpolation=PIL.Image.BILINEAR)\n",
              "                             RandomResizedCrop(size=(224, 224), scale=(0.08, 1.0), ratio=(0.75, 1.3333), interpolation=PIL.Image.BILINEAR)\n",
              "                             ToTensor()\n",
              "                             Normalize(mean=[0.485, 0.456, 0.406], std=[0.229, 0.224, 0.225])\n",
              "                         )\n",
              "    Target Transforms (if any): None"
            ]
          },
          "metadata": {
            "tags": []
          },
          "execution_count": 13
        }
      ]
    },
    {
      "metadata": {
        "id": "Df0-xlUEpBCt",
        "colab_type": "text"
      },
      "cell_type": "markdown",
      "source": [
        "We have 2699 images and two classes: `audi` and `bmw`.\n",
        "Let's visualize one image and see how the transformaitons work. We'll use `matpolotlib` which expects and image to be represented as a `numpy` array. We need to change the order of dimentions as the `imshow` function expects the channels to be last."
      ]
    },
    {
      "metadata": {
        "id": "8R-mDFV_mVa7",
        "colab_type": "code",
        "colab": {}
      },
      "cell_type": "code",
      "source": [
        "img, label = data[0]"
      ],
      "execution_count": 0,
      "outputs": []
    },
    {
      "metadata": {
        "id": "VVj3wHgWorF0",
        "colab_type": "code",
        "outputId": "33e17777-1666-4595-b9d2-226a8515dfdb",
        "colab": {
          "base_uri": "https://localhost:8080/",
          "height": 34
        }
      },
      "cell_type": "code",
      "source": [
        "img.shape"
      ],
      "execution_count": 0,
      "outputs": [
        {
          "output_type": "execute_result",
          "data": {
            "text/plain": [
              "torch.Size([3, 224, 224])"
            ]
          },
          "metadata": {
            "tags": []
          },
          "execution_count": 9
        }
      ]
    },
    {
      "metadata": {
        "id": "PTRQb9sSmg-G",
        "colab_type": "code",
        "outputId": "88bc54a3-2b35-4128-944d-4b21f2136616",
        "colab": {
          "base_uri": "https://localhost:8080/",
          "height": 302
        }
      },
      "cell_type": "code",
      "source": [
        "plt.imshow(np.transpose(img, (1, 2, 0)))"
      ],
      "execution_count": 0,
      "outputs": [
        {
          "output_type": "stream",
          "text": [
            "Clipping input data to the valid range for imshow with RGB data ([0..1] for floats or [0..255] for integers).\n"
          ],
          "name": "stderr"
        },
        {
          "output_type": "execute_result",
          "data": {
            "text/plain": [
              "<matplotlib.image.AxesImage at 0x7f090075b2e8>"
            ]
          },
          "metadata": {
            "tags": []
          },
          "execution_count": 10
        },
        {
          "output_type": "display_data",
          "data": {
            "image/png": "[encoded data removed]",
            "text/plain": [
              "<Figure size 432x288 with 1 Axes>"
            ]
          },
          "metadata": {
            "tags": []
          }
        }
      ]
    },
    {
      "metadata": {
        "id": "svRxhIWOxqtF",
        "colab_type": "text"
      },
      "cell_type": "markdown",
      "source": [
        "## Splitting the data"
      ]
    },
    {
      "metadata": {
        "id": "e0c09Suyp5ez",
        "colab_type": "text"
      },
      "cell_type": "markdown",
      "source": [
        "We need to have a validation set to evaluate our model. A radom split of date will be performed to create the training set and the validation set."
      ]
    },
    {
      "metadata": {
        "id": "o1P7lXCvptEj",
        "colab_type": "code",
        "colab": {}
      },
      "cell_type": "code",
      "source": [
        "train, test = torch.utils.data.random_split(data, [2000, len(data)-2000])"
      ],
      "execution_count": 0,
      "outputs": []
    },
    {
      "metadata": {
        "id": "YNjMb8eDqNa8",
        "colab_type": "text"
      },
      "cell_type": "markdown",
      "source": [
        "These datasets are then fed into two dataloaders, which is a convinent way to read a batch of images from the dataset. The `Dataloader` has the option of shuffling the data which is preferred for the training. "
      ]
    },
    {
      "metadata": {
        "id": "G-fDnJ2csoSt",
        "colab_type": "code",
        "colab": {}
      },
      "cell_type": "code",
      "source": [
        "train_loader = torch.utils.data.DataLoader(train, batch_size=64, shuffle=True)\n",
        "test_loader = torch.utils.data.DataLoader(test, batch_size=64, shuffle=True)"
      ],
      "execution_count": 0,
      "outputs": []
    },
    {
      "metadata": {
        "id": "nXZIkRVRtJn4",
        "colab_type": "code",
        "outputId": "7284554f-cec3-417d-90c3-2da01d82ee65",
        "colab": {
          "base_uri": "https://localhost:8080/",
          "height": 34
        }
      },
      "cell_type": "code",
      "source": [
        "len(train_loader), len(test_loaser)"
      ],
      "execution_count": 0,
      "outputs": [
        {
          "output_type": "execute_result",
          "data": {
            "text/plain": [
              "(32, 11)"
            ]
          },
          "metadata": {
            "tags": []
          },
          "execution_count": 13
        }
      ]
    },
    {
      "metadata": {
        "id": "CwqRbplsrDN9",
        "colab_type": "text"
      },
      "cell_type": "markdown",
      "source": [
        "We'll use transfer learining to build our model. This means that we'll utilize a pre-trained model on `ImageNet` dataset to extract featues from images. However, we neeed to customize the last bit of the model `the classifiers` to map the final outputs into two outputs representing the probabilities of each of the two classes. "
      ]
    },
    {
      "metadata": {
        "id": "B2CjdlwmxwyI",
        "colab_type": "text"
      },
      "cell_type": "markdown",
      "source": [
        "## Build and customize the model"
      ]
    },
    {
      "metadata": {
        "id": "p8UOyPOhtkIu",
        "colab_type": "code",
        "colab": {}
      },
      "cell_type": "code",
      "source": [
        "model = models.DenseNet()"
      ],
      "execution_count": 0,
      "outputs": []
    },
    {
      "metadata": {
        "id": "Gf172qOruYI8",
        "colab_type": "code",
        "colab": {}
      },
      "cell_type": "code",
      "source": [
        "model;"
      ],
      "execution_count": 0,
      "outputs": []
    },
    {
      "metadata": {
        "id": "BoYxoGEar6D1",
        "colab_type": "text"
      },
      "cell_type": "markdown",
      "source": [
        "the original model has `1000` outputs correspoding to the number of classes in `ImageNet`"
      ]
    },
    {
      "metadata": {
        "id": "XIsxKSkDuZO4",
        "colab_type": "code",
        "outputId": "19faffa9-1b0c-4622-9cf3-36a733993808",
        "colab": {
          "base_uri": "https://localhost:8080/",
          "height": 34
        }
      },
      "cell_type": "code",
      "source": [
        "model.classifier"
      ],
      "execution_count": 0,
      "outputs": [
        {
          "output_type": "execute_result",
          "data": {
            "text/plain": [
              "Linear(in_features=1024, out_features=1000, bias=True)"
            ]
          },
          "metadata": {
            "tags": []
          },
          "execution_count": 16
        }
      ]
    },
    {
      "metadata": {
        "id": "PD-VYMWSsKnv",
        "colab_type": "text"
      },
      "cell_type": "markdown",
      "source": [
        "We'll freeze the parameters for feature extraction and train only the classifier. Note that we can fine-tune these parameters but we'll not consider it for now. \n"
      ]
    },
    {
      "metadata": {
        "id": "lYXiAG1DB7M3",
        "colab_type": "code",
        "colab": {}
      },
      "cell_type": "code",
      "source": [
        "for param in model.parameters():\n",
        "  param.requires_grad = False"
      ],
      "execution_count": 0,
      "outputs": []
    },
    {
      "metadata": {
        "id": "F0l43Nfysmz8",
        "colab_type": "text"
      },
      "cell_type": "markdown",
      "source": [
        "add the new `classifier`"
      ]
    },
    {
      "metadata": {
        "id": "2TZnfKo_u-3G",
        "colab_type": "code",
        "colab": {}
      },
      "cell_type": "code",
      "source": [
        "new_cls = nn.Linear(in_features=1024, out_features=2, bias=True)"
      ],
      "execution_count": 0,
      "outputs": []
    },
    {
      "metadata": {
        "id": "EmBTtYjn0SSz",
        "colab_type": "code",
        "colab": {}
      },
      "cell_type": "code",
      "source": [
        "model.classifier = new_cls"
      ],
      "execution_count": 0,
      "outputs": []
    },
    {
      "metadata": {
        "id": "nxbHs9-u0Zam",
        "colab_type": "code",
        "colab": {}
      },
      "cell_type": "code",
      "source": [
        "model;"
      ],
      "execution_count": 0,
      "outputs": []
    },
    {
      "metadata": {
        "id": "Losim_kJx3QR",
        "colab_type": "text"
      },
      "cell_type": "markdown",
      "source": [
        "## Train the model"
      ]
    },
    {
      "metadata": {
        "id": "bX94cyFtsrsD",
        "colab_type": "text"
      },
      "cell_type": "markdown",
      "source": [
        "Define the `optimizer` and the `loss` funciton."
      ]
    },
    {
      "metadata": {
        "id": "2bpWBquABbgr",
        "colab_type": "code",
        "colab": {}
      },
      "cell_type": "code",
      "source": [
        "optimizer = optim.SGD(model.classifier.parameters(), lr=.001)\n",
        "criterion = nn.CrossEntropyLoss()"
      ],
      "execution_count": 0,
      "outputs": []
    },
    {
      "metadata": {
        "id": "8MPaQuEkx9Hm",
        "colab_type": "text"
      },
      "cell_type": "markdown",
      "source": [
        "### CPU vs GPU"
      ]
    },
    {
      "metadata": {
        "id": "wD5ofPn6s3ox",
        "colab_type": "text"
      },
      "cell_type": "markdown",
      "source": [
        "We can train the model on the `cpu` or the `gpu`. This example show how much time each option takes to process a few batches. Clearly, `gpu` outperforms the `cpu` by a huge gap."
      ]
    },
    {
      "metadata": {
        "id": "AB34Dc_AMoy9",
        "colab_type": "code",
        "outputId": "e667c374-1074-4457-b66c-60d5de5321e0",
        "colab": {
          "base_uri": "https://localhost:8080/",
          "height": 50
        }
      },
      "cell_type": "code",
      "source": [
        "import time\n",
        "for device in ['cpu', 'cuda']:\n",
        "    model.to(device)\n",
        "    for ii, (inputs, labels) in enumerate(train_loader):\n",
        "        inputs, labels = inputs.to(device), labels.to(device)\n",
        "\n",
        "        start = time.time()\n",
        "\n",
        "        outputs = model(inputs)\n",
        "        loss = criterion(outputs, labels)\n",
        "        loss.backward()\n",
        "        optimizer.step()\n",
        "\n",
        "        if ii==3:\n",
        "            break\n",
        "        \n",
        "    print(f\"Device = {device}; Time per batch: {(time.time() - start)/3:.3f} seconds\")"
      ],
      "execution_count": 0,
      "outputs": [
        {
          "output_type": "stream",
          "text": [
            "Device = cpu; Time per batch: 7.282 seconds\n",
            "Device = cuda; Time per batch: 0.014 seconds\n"
          ],
          "name": "stdout"
        }
      ]
    },
    {
      "metadata": {
        "id": "X87EcHqDtbTq",
        "colab_type": "text"
      },
      "cell_type": "markdown",
      "source": [
        "Let's grap a batch from the dataloader and check the shapes of the returen tensors.\n",
        "\n",
        "As we defined earlier the batch size is 64 images each of which is a 3 channels with W x H equals to 224 x 224\n",
        "\n",
        "We have a tensor of 64 labels which corresponds to the input batch size."
      ]
    },
    {
      "metadata": {
        "id": "8tWKFsdHyCEV",
        "colab_type": "text"
      },
      "cell_type": "markdown",
      "source": [
        "### Verifying the output of the model"
      ]
    },
    {
      "metadata": {
        "id": "E84e8GdsBbeQ",
        "colab_type": "code",
        "colab": {}
      },
      "cell_type": "code",
      "source": [
        "inputs, labels = next(iter(train_loader))"
      ],
      "execution_count": 0,
      "outputs": []
    },
    {
      "metadata": {
        "id": "mo_E1bPU1mIF",
        "colab_type": "code",
        "outputId": "b5a98ff1-ae4e-44f4-e16c-e76a19402531",
        "colab": {
          "base_uri": "https://localhost:8080/",
          "height": 34
        }
      },
      "cell_type": "code",
      "source": [
        "inputs.shape, labels.shape"
      ],
      "execution_count": 0,
      "outputs": [
        {
          "output_type": "execute_result",
          "data": {
            "text/plain": [
              "(torch.Size([64, 3, 224, 224]), torch.Size([64]))"
            ]
          },
          "metadata": {
            "tags": []
          },
          "execution_count": 24
        }
      ]
    },
    {
      "metadata": {
        "id": "x4GHI4JkuASh",
        "colab_type": "text"
      },
      "cell_type": "markdown",
      "source": [
        "the output of the model is of shape 64 x 2 which corresponds to the batch size and the number of classes (2 in this case)"
      ]
    },
    {
      "metadata": {
        "id": "o5hKe5uVFZlT",
        "colab_type": "code",
        "outputId": "4585c418-4721-4682-cf27-a5b7fcf330ac",
        "colab": {
          "base_uri": "https://localhost:8080/",
          "height": 34
        }
      },
      "cell_type": "code",
      "source": [
        "outs = model(inputs.to('cuda'))\n",
        "outs.shape"
      ],
      "execution_count": 0,
      "outputs": [
        {
          "output_type": "execute_result",
          "data": {
            "text/plain": [
              "torch.Size([64, 2])"
            ]
          },
          "metadata": {
            "tags": []
          },
          "execution_count": 29
        }
      ]
    },
    {
      "metadata": {
        "id": "sKVTUspOMJxt",
        "colab_type": "code",
        "outputId": "5491f4aa-f5ff-4982-9139-83a742394937",
        "colab": {
          "base_uri": "https://localhost:8080/",
          "height": 34
        }
      },
      "cell_type": "code",
      "source": [
        "outs[0]"
      ],
      "execution_count": 0,
      "outputs": [
        {
          "output_type": "execute_result",
          "data": {
            "text/plain": [
              "tensor([ 1.5453, -1.2036], device='cuda:0', grad_fn=<SelectBackward>)"
            ]
          },
          "metadata": {
            "tags": []
          },
          "execution_count": 30
        }
      ]
    },
    {
      "metadata": {
        "id": "TRD6aiqCuTp2",
        "colab_type": "text"
      },
      "cell_type": "markdown",
      "source": [
        "In order to get the probabilities of each class for each input image, we need to apply a `softmax` function which retures the probabilities of each class. The sum of probabilites for each image must add up to 1.\n",
        "\n",
        "Below we compute`LogSoftmax` and use `exp` to get the probabilities.\n",
        "\n",
        "We sum the prbabilites to verify that we get a sum of 1 for each image in the batch."
      ]
    },
    {
      "metadata": {
        "id": "ABMWOBWQIHw2",
        "colab_type": "code",
        "colab": {}
      },
      "cell_type": "code",
      "source": [
        "func = nn.LogSoftmax(dim=1)"
      ],
      "execution_count": 0,
      "outputs": []
    },
    {
      "metadata": {
        "id": "gEobFo89ovgW",
        "colab_type": "code",
        "colab": {}
      },
      "cell_type": "code",
      "source": [
        "logs = func(outs)"
      ],
      "execution_count": 0,
      "outputs": []
    },
    {
      "metadata": {
        "id": "N8T1eijGo2PN",
        "colab_type": "code",
        "colab": {}
      },
      "cell_type": "code",
      "source": [
        "ps = torch.exp(logs)"
      ],
      "execution_count": 0,
      "outputs": []
    },
    {
      "metadata": {
        "id": "Fn0m0_0epXFs",
        "colab_type": "code",
        "outputId": "7c618255-aed4-42f9-892b-a945bc94ea98",
        "colab": {
          "base_uri": "https://localhost:8080/",
          "height": 151
        }
      },
      "cell_type": "code",
      "source": [
        "ps.sum(dim=1)"
      ],
      "execution_count": 0,
      "outputs": [
        {
          "output_type": "execute_result",
          "data": {
            "text/plain": [
              "tensor([1.0000, 1.0000, 1.0000, 1.0000, 1.0000, 1.0000, 1.0000, 1.0000, 1.0000,\n",
              "        1.0000, 1.0000, 1.0000, 1.0000, 1.0000, 1.0000, 1.0000, 1.0000, 1.0000,\n",
              "        1.0000, 1.0000, 1.0000, 1.0000, 1.0000, 1.0000, 1.0000, 1.0000, 1.0000,\n",
              "        1.0000, 1.0000, 1.0000, 1.0000, 1.0000, 1.0000, 1.0000, 1.0000, 1.0000,\n",
              "        1.0000, 1.0000, 1.0000, 1.0000, 1.0000, 1.0000, 1.0000, 1.0000, 1.0000,\n",
              "        1.0000, 1.0000, 1.0000, 1.0000, 1.0000, 1.0000, 1.0000, 1.0000, 1.0000,\n",
              "        1.0000, 1.0000, 1.0000, 1.0000, 1.0000, 1.0000, 1.0000, 1.0000, 1.0000,\n",
              "        1.0000], device='cuda:0', grad_fn=<SumBackward2>)"
            ]
          },
          "metadata": {
            "tags": []
          },
          "execution_count": 45
        }
      ]
    },
    {
      "metadata": {
        "id": "MSPHV8Dnu-3H",
        "colab_type": "text"
      },
      "cell_type": "markdown",
      "source": [
        "We can use `topk` to obtain the top class and the corresponding index of the label. We can compare the predicted labels and the actual ones and compute the accurary as well. \n",
        "\n",
        "We need to be careful with the shapes of the tensors."
      ]
    },
    {
      "metadata": {
        "id": "uzm6P48qpYUs",
        "colab_type": "code",
        "colab": {}
      },
      "cell_type": "code",
      "source": [
        "top_p, top_class = ps.topk(1, dim=1)"
      ],
      "execution_count": 0,
      "outputs": []
    },
    {
      "metadata": {
        "id": "mUUPtWYsqNud",
        "colab_type": "code",
        "colab": {}
      },
      "cell_type": "code",
      "source": [
        "equals = top_class == labels.view(*top_class.shape)"
      ],
      "execution_count": 0,
      "outputs": []
    },
    {
      "metadata": {
        "id": "ZOI-QRZuqPY7",
        "colab_type": "code",
        "outputId": "3f5b8e80-ceb9-48a7-f7dd-83745cf03ccc",
        "colab": {
          "base_uri": "https://localhost:8080/",
          "height": 34
        }
      },
      "cell_type": "code",
      "source": [
        "accuracy = torch.mean(equals.type(torch.FloatTensor))\n",
        "print(f'Accuracy: {accuracy.item()*100}%')"
      ],
      "execution_count": 0,
      "outputs": [
        {
          "output_type": "stream",
          "text": [
            "Accuracy: 76.5625%\n"
          ],
          "name": "stdout"
        }
      ]
    },
    {
      "metadata": {
        "id": "sX0lr8QryTAJ",
        "colab_type": "text"
      },
      "cell_type": "markdown",
      "source": [
        "### Training"
      ]
    },
    {
      "metadata": {
        "id": "5pVrEco1vjDO",
        "colab_type": "text"
      },
      "cell_type": "markdown",
      "source": [
        "Here, we train our model for 8 epochs using the `gpu` and we keep track of the training loss and the validation loss. "
      ]
    },
    {
      "metadata": {
        "id": "WXCGD7nzqgAi",
        "colab_type": "code",
        "outputId": "ade72402-97a3-43d5-e9ac-345399e8bde9",
        "colab": {
          "base_uri": "https://localhost:8080/",
          "height": 151
        }
      },
      "cell_type": "code",
      "source": [
        "epochs = 8\n",
        "device = 'cuda'\n",
        "model.to(device)\n",
        "train_losses, test_losses = [], []\n",
        "for e in range(epochs):\n",
        "    running_loss = 0\n",
        "    for images, labels in train_loader:\n",
        "        images, labels = images.to(device), labels.to(device)\n",
        "        \n",
        "        optimizer.zero_grad()\n",
        "        \n",
        "        outs = model(images)\n",
        "        loss = criterion(outs, labels)\n",
        "        loss.backward()\n",
        "        optimizer.step()\n",
        "        \n",
        "        running_loss += loss.item()\n",
        "    else:\n",
        "      test_loss = 0\n",
        "      \n",
        "      with torch.no_grad():\n",
        "        for images, labels in test_loader:\n",
        "          images, labels = images.to(device), labels.to(device)\n",
        "          outs = model(images)\n",
        "          loss = criterion(outs, labels)\n",
        "          test_loss += loss.item()\n",
        "          \n",
        "      test_losses.append(test_loss/len(test_loader))\n",
        "      train_losses.append(running_loss/len(train_loader))\n",
        "          \n",
        "      print(\"Epoch: {}/{} \".format(e+1, epochs),\n",
        "              \"Training Loss: {:.3f}.. \".format(train_losses[-1]),\n",
        "           \"Validation Loss: {:.3f}.. \".format(test_losses[-1]))\n",
        "    "
      ],
      "execution_count": 50,
      "outputs": [
        {
          "output_type": "stream",
          "text": [
            "Epoch: 1/8  Training Loss: 0.655..  Validation Loss: 0.609.. \n",
            "Epoch: 2/8  Training Loss: 0.572..  Validation Loss: 0.602.. \n",
            "Epoch: 3/8  Training Loss: 0.558..  Validation Loss: 0.584.. \n",
            "Epoch: 4/8  Training Loss: 0.548..  Validation Loss: 0.584.. \n",
            "Epoch: 5/8  Training Loss: 0.545..  Validation Loss: 0.577.. \n",
            "Epoch: 6/8  Training Loss: 0.541..  Validation Loss: 0.578.. \n",
            "Epoch: 7/8  Training Loss: 0.537..  Validation Loss: 0.571.. \n",
            "Epoch: 8/8  Training Loss: 0.541..  Validation Loss: 0.574.. \n"
          ],
          "name": "stdout"
        }
      ]
    },
    {
      "metadata": {
        "id": "_F59BQouu935",
        "colab_type": "code",
        "outputId": "5d9ecbcc-296a-451b-9b7a-3418db3ed856",
        "colab": {
          "base_uri": "https://localhost:8080/",
          "height": 286
        }
      },
      "cell_type": "code",
      "source": [
        "plt.plot(train_losses, label='Training loss')\n",
        "plt.plot(test_losses, label='Validation loss')\n",
        "plt.legend()"
      ],
      "execution_count": 51,
      "outputs": [
        {
          "output_type": "execute_result",
          "data": {
            "text/plain": [
              "<matplotlib.legend.Legend at 0x7fc7807769b0>"
            ]
          },
          "metadata": {
            "tags": []
          },
          "execution_count": 51
        },
        {
          "output_type": "display_data",
          "data": {
            "image/png": "[encoded data removed]",
            "text/plain": [
              "<Figure size 432x288 with 1 Axes>"
            ]
          },
          "metadata": {
            "tags": []
          }
        }
      ]
    },
    {
      "metadata": {
        "id": "psCDOWJvvx1E",
        "colab_type": "text"
      },
      "cell_type": "markdown",
      "source": [
        "We can track both the training loss and the validation loss to make sure that we are not overfitting to the training data. \n",
        "\n",
        "We can also track metrics about the model, like the accuracy of prediciton for example."
      ]
    },
    {
      "metadata": {
        "id": "4JzICyXCPdCo",
        "colab_type": "text"
      },
      "cell_type": "markdown",
      "source": [
        "## Saving and Loading the model"
      ]
    },
    {
      "metadata": {
        "id": "wLYJP6bK0IiW",
        "colab_type": "code",
        "colab": {
          "base_uri": "https://localhost:8080/",
          "height": 50
        },
        "outputId": "90236729-374b-45d1-a1a2-9db6f0d6bdf7"
      },
      "cell_type": "code",
      "source": [
        "\n",
        "print(\"Sample of the state dict keys of the model: \\n\", list(model.state_dict().keys())[:5])"
      ],
      "execution_count": 57,
      "outputs": [
        {
          "output_type": "stream",
          "text": [
            "Sample of the state dict keys of the model: \n",
            " ['features.conv0.weight', 'features.norm0.weight', 'features.norm0.bias', 'features.norm0.running_mean', 'features.norm0.running_var']\n"
          ],
          "name": "stdout"
        }
      ]
    },
    {
      "metadata": {
        "id": "g1J5QHzZPeGw",
        "colab_type": "code",
        "colab": {}
      },
      "cell_type": "code",
      "source": [
        "torch.save(model.state_dict(), 'model_state.pth')"
      ],
      "execution_count": 0,
      "outputs": []
    },
    {
      "metadata": {
        "id": "jKHVHmEeQG1L",
        "colab_type": "code",
        "colab": {}
      },
      "cell_type": "code",
      "source": [
        "state_dict = torch.load('model_state.pth')"
      ],
      "execution_count": 0,
      "outputs": []
    },
    {
      "metadata": {
        "id": "0fIA2I2eQGys",
        "colab_type": "code",
        "colab": {}
      },
      "cell_type": "code",
      "source": [
        "model.load_state_dict(state_dict)\n"
      ],
      "execution_count": 0,
      "outputs": []
    }
  ]
}